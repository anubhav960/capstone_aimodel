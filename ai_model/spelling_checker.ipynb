{
  "cells": [
    {
      "cell_type": "markdown",
      "metadata": {
        "id": "o5vfX6Ik51XB"
      },
      "source": [
        "# Spelling correction model"
      ]
    },
    {
      "cell_type": "markdown",
      "metadata": {
        "id": "cpk106R551XD"
      },
      "source": [
        "First of all, we need some words. First we need some text, possibly from a file. Then we can break the text into words or tokens. I have a big text called .txt which I have saved in the directry of this project. We can read it, and see how many characters are there in the file."
      ]
    },
    {
      "cell_type": "code",
      "execution_count": 26,
      "metadata": {
        "colab": {
          "base_uri": "https://localhost:8080/"
        },
        "id": "P84KxvFa51XE",
        "outputId": "41371b90-10e4-4ea5-ed3e-06af03de41a3"
      },
      "outputs": [
        {
          "output_type": "stream",
          "name": "stdout",
          "text": [
            "Populating the interactive namespace from numpy and matplotlib\n"
          ]
        },
        {
          "output_type": "stream",
          "name": "stderr",
          "text": [
            "/usr/local/lib/python3.7/dist-packages/IPython/core/magics/pylab.py:161: UserWarning: pylab import has clobbered these variables: ['sample']\n",
            "`%matplotlib` prevents importing * from pylab and numpy\n",
            "  \"\\n`%matplotlib` prevents importing * from pylab and numpy\"\n"
          ]
        }
      ],
      "source": [
        "# importing preliminaries\n",
        "%pylab inline\n",
        "import nltk\n",
        "import re\n",
        "import math\n",
        "import string\n",
        "from collections import Counter\n",
        "from __future__ import division"
      ]
    },
    {
      "cell_type": "code",
      "execution_count": 27,
      "metadata": {
        "colab": {
          "base_uri": "https://localhost:8080/"
        },
        "id": "lrP-3HyG51XF",
        "outputId": "24203c8d-1b4b-4c0c-ee27-7ba7749124e5"
      },
      "outputs": [
        {
          "output_type": "execute_result",
          "data": {
            "text/plain": [
              "6127059"
            ]
          },
          "metadata": {},
          "execution_count": 27
        }
      ],
      "source": [
        "TEXT = open('words.txt').read()\n",
        "len(TEXT)"
      ]
    },
    {
      "cell_type": "markdown",
      "metadata": {
        "id": "tI1kP2pU51XG"
      },
      "source": [
        "So, it's 61,27,059 characters.\n",
        "\n",
        "Now let's break the text up into tokens. For now we'll ignore all the punctuation and numbers, and anything that is not a letter."
      ]
    },
    {
      "cell_type": "code",
      "execution_count": 28,
      "metadata": {
        "collapsed": true,
        "id": "rk2unp7O51XG"
      },
      "outputs": [],
      "source": [
        "def tokens(text):\n",
        "    \"List all the word tokens (consecutive letters) in a text. Normalize to lowercase.\"\n",
        "    return re.findall('[a-z]+', text.lower()) "
      ]
    },
    {
      "cell_type": "code",
      "execution_count": 29,
      "metadata": {
        "id": "vHu8jUfV51XH",
        "colab": {
          "base_uri": "https://localhost:8080/"
        },
        "outputId": "977509d8-d0bd-44af-c898-35121323e5f0"
      },
      "outputs": [
        {
          "output_type": "execute_result",
          "data": {
            "text/plain": [
              "['hey', 'i', 'am', 'working', 'with', 'nltk']"
            ]
          },
          "metadata": {},
          "execution_count": 29
        }
      ],
      "source": [
        "tokens('Hey, I am working with NLTK..!')"
      ]
    },
    {
      "cell_type": "code",
      "execution_count": 30,
      "metadata": {
        "id": "LtKq18Go51XH",
        "colab": {
          "base_uri": "https://localhost:8080/"
        },
        "outputId": "549e00fc-de76-4aec-bd0b-0051c7e8e155"
      },
      "outputs": [
        {
          "output_type": "execute_result",
          "data": {
            "text/plain": [
              "1023444"
            ]
          },
          "metadata": {},
          "execution_count": 30
        }
      ],
      "source": [
        "WORDS = tokens(TEXT)\n",
        "len(WORDS)"
      ]
    },
    {
      "cell_type": "markdown",
      "metadata": {
        "id": "ri2TGBtD51XI"
      },
      "source": [
        "So, a million words. Here are the top 10 words:"
      ]
    },
    {
      "cell_type": "code",
      "execution_count": 31,
      "metadata": {
        "id": "rl5LGadj51XJ",
        "colab": {
          "base_uri": "https://localhost:8080/"
        },
        "outputId": "a037f440-eaa9-44df-a36f-bed1e379f59b"
      },
      "outputs": [
        {
          "output_type": "stream",
          "name": "stdout",
          "text": [
            "['dan', 'morgan', 'told', 'himself', 'he', 'would', 'forget', 'ann', 'turner', 'he']\n"
          ]
        }
      ],
      "source": [
        "print(WORDS[:10])"
      ]
    },
    {
      "cell_type": "markdown",
      "metadata": {
        "id": "AQi_gmjM51XJ"
      },
      "source": [
        "Here we are using a model that is known as \"Bag of words\" We know that language is very complicated, but we can create a simplified model of language that captures part of the complexity. In this model, we avoid the order of words, but carry their frequencies. Here's a function to sample an n word sentence from a bag of words:"
      ]
    },
    {
      "cell_type": "code",
      "execution_count": 32,
      "metadata": {
        "collapsed": true,
        "id": "MBRmgyKu51XJ"
      },
      "outputs": [],
      "source": [
        "def sample(bag, n=10):\n",
        "    \"Sample a random n-word sentence from the model described by the bag of words.\"\n",
        "    return ' '.join(random.choice(bag) for _ in range(n))"
      ]
    },
    {
      "cell_type": "code",
      "execution_count": 33,
      "metadata": {
        "id": "NZz0cqrA51XK",
        "colab": {
          "base_uri": "https://localhost:8080/",
          "height": 35
        },
        "outputId": "ce53e8e9-7325-43de-af5e-22ba98bce58e"
      },
      "outputs": [
        {
          "output_type": "execute_result",
          "data": {
            "text/plain": [
              "'through have is or the problem flannagan hymn floresville on'"
            ],
            "application/vnd.google.colaboratory.intrinsic+json": {
              "type": "string"
            }
          },
          "metadata": {},
          "execution_count": 33
        }
      ],
      "source": [
        "sample(WORDS)"
      ]
    },
    {
      "cell_type": "code",
      "execution_count": 34,
      "metadata": {
        "id": "almwmAwN51XK",
        "colab": {
          "base_uri": "https://localhost:8080/"
        },
        "outputId": "acd8595e-6329-469f-c37d-4865da38ba11"
      },
      "outputs": [
        {
          "output_type": "execute_result",
          "data": {
            "text/plain": [
              "Counter({'exercise': 1, 'hey': 1, 'is': 1, 'the': 1, 'third': 1, 'this': 1})"
            ]
          },
          "metadata": {},
          "execution_count": 34
        }
      ],
      "source": [
        "Counter(tokens('Hey, this is the third exercise'))"
      ]
    },
    {
      "cell_type": "markdown",
      "metadata": {
        "id": "KLCxPYlg51XL"
      },
      "source": [
        "Another way to use this model is \"Counter\", which is a dictionary of {'word': count} pairs. see the below code: "
      ]
    },
    {
      "cell_type": "code",
      "execution_count": 35,
      "metadata": {
        "id": "Ybuq3f2W51XL",
        "colab": {
          "base_uri": "https://localhost:8080/"
        },
        "outputId": "3a4c79b0-531b-4ebd-803e-6b7d204eeaea"
      },
      "outputs": [
        {
          "output_type": "stream",
          "name": "stdout",
          "text": [
            "[('the', 70003), ('of', 36473), ('and', 28935), ('to', 26247), ('a', 23517), ('in', 21422), ('that', 10789), ('is', 10109), ('was', 9815), ('he', 9801)]\n"
          ]
        }
      ],
      "source": [
        "COUNTS = Counter(WORDS)\n",
        "\n",
        "print (COUNTS.most_common(10))"
      ]
    },
    {
      "cell_type": "markdown",
      "metadata": {
        "id": "U130KVAZ51XL"
      },
      "source": [
        "A Counter is like a dict, but with a few extra methods. one can see the differences below -"
      ]
    },
    {
      "cell_type": "code",
      "execution_count": 36,
      "metadata": {
        "id": "eDvgFbGL51XL",
        "colab": {
          "base_uri": "https://localhost:8080/"
        },
        "outputId": "6751885d-6bea-46ad-ef26-68feb2396f9a"
      },
      "outputs": [
        {
          "output_type": "stream",
          "name": "stdout",
          "text": [
            "35 pound\n",
            "10109 is\n",
            "52 widely\n",
            "187 expected\n",
            "26247 to\n",
            "619 take\n",
            "689 another\n",
            "75 sharp\n",
            "112 drive\n"
          ]
        }
      ],
      "source": [
        "for w in tokens('pound is widely expected to take another sharp drive '):\n",
        "    print (COUNTS[w], w)"
      ]
    },
    {
      "cell_type": "markdown",
      "metadata": {
        "id": "IpVW5Mdh51XM"
      },
      "source": [
        "linguist 'George Zipf' Doctorate from Harvard, noted that in any big text file, the nth most frequent word appears with a frequency of about 1/n. He is the enventor of Zipf's Law. If we plot the frequency of words, most common first, on a log-log plot, they should come out as a straight line if Zipf's Law holds. Here we see that it is a fairly close fit: "
      ]
    },
    {
      "cell_type": "code",
      "execution_count": 37,
      "metadata": {
        "id": "NhLpvkZP51XM",
        "colab": {
          "base_uri": "https://localhost:8080/",
          "height": 285
        },
        "outputId": "84d30588-d9b8-409d-97ab-0a97b222b172"
      },
      "outputs": [
        {
          "output_type": "display_data",
          "data": {
            "text/plain": [
              "<Figure size 432x288 with 1 Axes>"
            ],
            "image/png": "[encoded data removed]"
          },
          "metadata": {
            "needs_background": "light"
          }
        }
      ],
      "source": [
        "M = COUNTS['is']\n",
        "yscale('log'); xscale('log'); title('Frequency of n-th most frequent word and 1/n line.')\n",
        "plot([c for (w, c) in COUNTS.most_common()])\n",
        "plot([M/i for i in range(1, len(COUNTS)+1)]);"
      ]
    },
    {
      "cell_type": "markdown",
      "metadata": {
        "id": "5XNZ5l_k51XN"
      },
      "source": [
        "Given a word w, find the most likely correction c = correct(w).\n",
        "\n",
        "Approach: Try all candidate words c that are known words that are near w. Choose the most likely one.\n",
        "\n",
        "How to balance near and likely?\n",
        "\n",
        "For this time we always prefer nearer, but when there is a tie on nearness, then the program use the word with the highest WORDS count. to Measure nearness we are going to use edit distance.I have determined that going out to edit distance 2 will give us reasonable results. Then we can define correct(w)"
      ]
    },
    {
      "cell_type": "code",
      "execution_count": 38,
      "metadata": {
        "collapsed": true,
        "id": "30INtl4T51XN"
      },
      "outputs": [],
      "source": [
        "def correct(word):\n",
        "    \"Find the best spelling correction for this word.\"\n",
        "    # Prefer edit distance 0, then 1, then 2; otherwise default to word itself.\n",
        "    candidates = (known(edits0(word)) or \n",
        "                  known(edits1(word)) or \n",
        "                  known(edits2(word)) or \n",
        "                  [word])\n",
        "    return max(candidates, key=COUNTS.get)"
      ]
    },
    {
      "cell_type": "markdown",
      "metadata": {
        "id": "AzVJ77z851XN"
      },
      "source": [
        "The functions known and edits0 are easy; and edits2 is easy if we assume we have edits1"
      ]
    },
    {
      "cell_type": "code",
      "execution_count": 39,
      "metadata": {
        "collapsed": true,
        "id": "a9dcp6Gz51XO"
      },
      "outputs": [],
      "source": [
        "def known(words):\n",
        "    \"Return the subset of words that are actually in the dictionary.\"\n",
        "    return {w for w in words if w in COUNTS}\n",
        "\n",
        "def edits0(word): \n",
        "    \"Return all strings that are zero edits away from word (i.e., just word itself).\"\n",
        "    return {word}\n",
        "\n",
        "def edits2(word):\n",
        "    \"Return all strings that are two edits away from this word.\"\n",
        "    return {e2 for e1 in edits1(word) for e2 in edits1(e1)}"
      ]
    },
    {
      "cell_type": "markdown",
      "metadata": {
        "id": "6LsOUxKo51XO"
      },
      "source": [
        "Now for edits1(word): the set of candidate words that are one edit away. For example, given \"speech\", this would include \"sepech\"and also \"spechz\". One can see this in the code below in(print (edits1('speech')) Then How could we detect them? One way is to split the original word in all possible places, each split forming a pair of words, (a, b), before and after the place, and at each place, either delete, transpose, replace, or insert a letter."
      ]
    },
    {
      "cell_type": "code",
      "execution_count": 40,
      "metadata": {
        "collapsed": true,
        "id": "kTrbyY2m51XO"
      },
      "outputs": [],
      "source": [
        "def edits1(word):\n",
        "    \"Return all strings that are one edit away from this word.\"\n",
        "    pairs      = splits(word)\n",
        "    deletes    = [a+b[1:]           for (a, b) in pairs if b]\n",
        "    transposes = [a+b[1]+b[0]+b[2:] for (a, b) in pairs if len(b) > 1]\n",
        "    replaces   = [a+c+b[1:]         for (a, b) in pairs for c in alphabet if b]\n",
        "    inserts    = [a+c+b             for (a, b) in pairs for c in alphabet]\n",
        "    return set(deletes + transposes + replaces + inserts)\n",
        "\n",
        "def splits(word):\n",
        "    \"Return a list of all possible (first, rest) pairs that comprise word.\"\n",
        "    return [(word[:i], word[i:]) \n",
        "            for i in range(len(word)+1)]\n",
        "\n",
        "alphabet = 'abcdefghijklmnopqrstuvwxyz'"
      ]
    },
    {
      "cell_type": "code",
      "execution_count": 41,
      "metadata": {
        "id": "NaysJS6X51XO",
        "colab": {
          "base_uri": "https://localhost:8080/"
        },
        "outputId": "1e80205a-0be4-4e0d-c763-7317deafdfdd"
      },
      "outputs": [
        {
          "output_type": "execute_result",
          "data": {
            "text/plain": [
              "[('', 'speech'),\n",
              " ('s', 'peech'),\n",
              " ('sp', 'eech'),\n",
              " ('spe', 'ech'),\n",
              " ('spee', 'ch'),\n",
              " ('speec', 'h'),\n",
              " ('speech', '')]"
            ]
          },
          "metadata": {},
          "execution_count": 41
        }
      ],
      "source": [
        "splits('speech')"
      ]
    },
    {
      "cell_type": "code",
      "execution_count": 42,
      "metadata": {
        "id": "95YbVZ9r51XP",
        "colab": {
          "base_uri": "https://localhost:8080/"
        },
        "outputId": "f64a3034-4593-49f8-eff8-67f5fa0623c3"
      },
      "outputs": [
        {
          "output_type": "stream",
          "name": "stdout",
          "text": [
            "{'speech'}\n"
          ]
        }
      ],
      "source": [
        "print (edits0('speech'))"
      ]
    },
    {
      "cell_type": "code",
      "execution_count": 43,
      "metadata": {
        "scrolled": true,
        "id": "hgoUKDuz51XP",
        "colab": {
          "base_uri": "https://localhost:8080/"
        },
        "outputId": "36d1c391-f220-409a-9a34-c28ef1190c4a"
      },
      "outputs": [
        {
          "output_type": "stream",
          "name": "stdout",
          "text": [
            "{'speechr', 'splech', 'spueech', 'speeih', 'speecf', 'spfeech', 'slpeech', 'speeclh', 'gpeech', 'speecb', 'mspeech', 'bspeech', 'skeech', 'speechv', 'shpeech', 'speechl', 'speechn', 'speecw', 'spetch', 'sppech', 'hpeech', 'speekh', 'sfeech', 'sphech', 'speecj', 'espeech', 'speechi', 'speecth', 'speeach', 'sneech', 'spweech', 'speedh', 'rspeech', 'speepch', 'sdeech', 'spceech', 'pspeech', 'spepech', 'spnech', 'speemch', 'speebh', 'spbeech', 'speemh', 'speerch', 'speefch', 'scpeech', 'spveech', 'ispeech', 'speeuch', 'speecmh', 'sbpeech', 'peech', 'sgpeech', 'spyech', 'sfpeech', 'speeoch', 'speecd', 'speetch', 'spegech', 'spejech', 'speceh', 'sptech', 'spkech', 'speechp', 'soeech', 'szeech', 'spehech', 'speecgh', 'svpeech', 'spench', 'uspeech', 'spleech', 'sieech', 'speedch', 'sveech', 'spxeech', 'speecph', 'xspeech', 'spevch', 'steech', 'spoeech', 'opeech', 'spelch', 'speegh', 'speecbh', 'spewch', 'speqch', 'speejh', 'wspeech', 'stpeech', 'mpeech', 'tpeech', 'spmech', 'speec', 'pseech', 'spefech', 'speexh', 'kpeech', 'qspeech', 'sjpeech', 'speeuh', 'vspeech', 'spoech', 'spqech', 'ppeech', 'saeech', 'aspeech', 'speechx', 'speoech', 'speeck', 'speecr', 'sweech', 'spneech', 'speecy', 'speerh', 'speezh', 'dpeech', 'speehch', 'speechc', 'spejch', 'spaeech', 'spjeech', 'spemch', 'speeych', 'gspeech', 'bpeech', 'snpeech', 'speesch', 'speecu', 'spech', 'sopeech', 'speecv', 'spfech', 'spefch', 'speecm', 'speecvh', 'speeech', 'sseech', 'speewh', 'speevch', 'apeech', 'speeczh', 'spevech', 'sepech', 'speecdh', 'sperch', 'jpeech', 'speecwh', 'yspeech', 'spekch', 'speeeh', 'speecs', 'spieech', 'speechs', 'speexch', 'ospeech', 'spekech', 'speiech', 'spgech', 'spbech', 'speenh', 'fpeech', 'seech', 'speych', 'speece', 'speecn', 'zpeech', 'xpeech', 'spenech', 'speechb', 'speekch', 'spteech', 'speuech', 'speecch', 'speach', 'hspeech', 'spwech', 'sgeech', 'spewech', 'sjeech', 'speechu', 'nspeech', 'sheech', 'speecp', 'specech', 'speeph', 'jspeech', 'rpeech', 'speelh', 'speeqh', 'sperech', 'spezech', 'spqeech', 'speefh', 'syeech', 'specch', 'dspeech', 'cspeech', 'speecfh', 'spmeech', 'speehh', 'speeth', 'speeich', 'speechy', 'spyeech', 'sipeech', 'spzech', 'sppeech', 'speehc', 'smeech', 'spemech', 'sxeech', 'speench', 'speegch', 'spepch', 'speect', 'speecx', 'speecha', 'spjech', 'speeah', 'ypeech', 'speecyh', 'seeech', 'speeckh', 'speuch', 'spiech', 'speecho', 'speecrh', 'spdech', 'speezch', 'spcech', 'epeech', 'speich', 'speecl', 'spseech', 'speqech', 'spxech', 'speecuh', 'speeca', 'cpeech', 'spedch', 'spvech', 'speechd', 'spebch', 'sdpeech', 'speecsh', 'speecg', 'speevh', 'speechq', 'speecxh', 'speecht', 'spreech', 'sreech', 'speeci', 'zspeech', 'spedech', 'spehch', 'speecqh', 'sqpeech', 'spaech', 'qpeech', 'speecq', 'speechf', 'spesch', 'speecnh', 'speecoh', 'sapeech', 'sspeech', 'spetech', 'sueech', 'spzeech', 'supeech', 'speeoh', 'srpeech', 'speechg', 'speecih', 'speechm', 'sprech', 'spezch', 'spdeech', 'speeceh', 'spexch', 'sypeech', 'sepeech', 'speecah', 'fspeech', 'spgeech', 'speechh', 'speejch', 'swpeech', 'speoch', 'speeyh', 'smpeech', 'tspeech', 'speecc', 'upeech', 'lspeech', 'sbeech', 'speesh', 'speewch', 'speechw', 'szpeech', 'speechz', 'spkeech', 'speecz', 'kspeech', 'speech', 'speeh', 'speechk', 'speebch', 'speecjh', 'sxpeech', 'spesech', 'spuech', 'sceech', 'spelech', 'spebech', 'spexech', 'speyech', 'wpeech', 'vpeech', 'lpeech', 'speeqch', 'speeco', 'npeech', 'skpeech', 'spheech', 'speechj', 'speaech', 'sleech', 'spsech', 'spegch', 'sqeech', 'speelch', 'speeche', 'ipeech'}\n"
          ]
        }
      ],
      "source": [
        "print (edits1('speech'))"
      ]
    },
    {
      "cell_type": "code",
      "execution_count": 44,
      "metadata": {
        "id": "5eqylAuS51XP",
        "colab": {
          "base_uri": "https://localhost:8080/"
        },
        "outputId": "454efcf5-6f02-4dc2-cbec-a71fe6715d4d"
      },
      "outputs": [
        {
          "output_type": "stream",
          "name": "stdout",
          "text": [
            "51013\n"
          ]
        }
      ],
      "source": [
        "print (len(edits2('speech')))"
      ]
    },
    {
      "cell_type": "code",
      "execution_count": 45,
      "metadata": {
        "id": "NbnG8a6r51XP",
        "colab": {
          "base_uri": "https://localhost:8080/"
        },
        "outputId": "693c3a11-744b-48b3-c228-a974219253eb"
      },
      "outputs": [
        {
          "output_type": "execute_result",
          "data": {
            "text/plain": [
              "<map at 0x7f302008f550>"
            ]
          },
          "metadata": {},
          "execution_count": 45
        }
      ],
      "source": [
        "map(correct, tokens('speech eis not good'))"
      ]
    },
    {
      "cell_type": "code",
      "execution_count": 46,
      "metadata": {
        "collapsed": true,
        "id": "rgqeU5w551XQ"
      },
      "outputs": [],
      "source": [
        "def correct_text(text):\n",
        "    \"Correct all the words within a text, returning the corrected text.\"\n",
        "    return re.sub('[a-zA-Z]+', correct_match, text)\n",
        "\n",
        "def correct_match(match):\n",
        "    \"Spell-correct word in match, and preserve proper upper/lower/title case.\"\n",
        "    word = match.group()\n",
        "    return case_of(word)(correct(word.lower()))\n",
        "\n",
        "def case_of(text):\n",
        "    \"Return the case-function appropriate for text: upper, lower, title, or just str.\"\n",
        "    return (str.upper if text.isupper() else\n",
        "            str.lower if text.islower() else\n",
        "            str.title if text.istitle() else\n",
        "            str)"
      ]
    },
    {
      "cell_type": "code",
      "execution_count": 47,
      "metadata": {
        "id": "Xu9h3DLX51XQ",
        "colab": {
          "base_uri": "https://localhost:8080/"
        },
        "outputId": "6c135926-d946-4a36-bf7b-d6034dc35b02"
      },
      "outputs": [
        {
          "output_type": "execute_result",
          "data": {
            "text/plain": [
              "<map at 0x7f301f099dd0>"
            ]
          },
          "metadata": {},
          "execution_count": 47
        }
      ],
      "source": [
        "map(case_of, ['UPPER', 'lower', 'Title', 'CamelCase'])"
      ]
    },
    {
      "cell_type": "code",
      "execution_count": 48,
      "metadata": {
        "id": "8sY1Oa4i51XQ",
        "colab": {
          "base_uri": "https://localhost:8080/",
          "height": 35
        },
        "outputId": "b98fa3cc-02bd-4425-b9a2-63129d8555e8"
      },
      "outputs": [
        {
          "output_type": "execute_result",
          "data": {
            "text/plain": [
              "'speech is not good'"
            ],
            "application/vnd.google.colaboratory.intrinsic+json": {
              "type": "string"
            }
          },
          "metadata": {},
          "execution_count": 48
        }
      ],
      "source": [
        "correct_text('spech is noot good')"
      ]
    },
    {
      "cell_type": "code",
      "execution_count": 49,
      "metadata": {
        "id": "VsTeK04L51XQ",
        "colab": {
          "base_uri": "https://localhost:8080/",
          "height": 35
        },
        "outputId": "f575b5e1-f9d5-4c29-d3a6-cd3c5c10db7a"
      },
      "outputs": [
        {
          "output_type": "execute_result",
          "data": {
            "text/plain": [
              "'have you dane that project'"
            ],
            "application/vnd.google.colaboratory.intrinsic+json": {
              "type": "string"
            }
          },
          "metadata": {},
          "execution_count": 49
        }
      ],
      "source": [
        "correct_text('havee yoo dane thaat projecct')"
      ]
    },
    {
      "cell_type": "code",
      "execution_count": 50,
      "metadata": {
        "id": "bUczOBC051XQ",
        "colab": {
          "base_uri": "https://localhost:8080/",
          "height": 35
        },
        "outputId": "d34e1934-6f99-4a41-c626-840deaf468c7"
      },
      "outputs": [
        {
          "output_type": "execute_result",
          "data": {
            "text/plain": [
              "'Professor is a nice person'"
            ],
            "application/vnd.google.colaboratory.intrinsic+json": {
              "type": "string"
            }
          },
          "metadata": {},
          "execution_count": 50
        }
      ],
      "source": [
        "correct_text('Profesor is a nyce persan')"
      ]
    },
    {
      "cell_type": "markdown",
      "metadata": {
        "id": "9jTJ-o7u51XR"
      },
      "source": [
        "Here we saw that how we can correct the miss spelled words from our text. This is one of the easiest ways to do so, hence making it simplified for our purposes. "
      ]
    }
  ],
  "metadata": {
    "kernelspec": {
      "display_name": "Python [default]",
      "language": "python",
      "name": "python3"
    },
    "language_info": {
      "codemirror_mode": {
        "name": "ipython",
        "version": 3
      },
      "file_extension": ".py",
      "mimetype": "text/x-python",
      "name": "python",
      "nbconvert_exporter": "python",
      "pygments_lexer": "ipython3",
      "version": "3.5.2"
    },
    "colab": {
      "name": "spelling_checker.ipynb",
      "provenance": [],
      "collapsed_sections": []
    },
    "accelerator": "GPU",
    "gpuClass": "standard"
  },
  "nbformat": 4,
  "nbformat_minor": 0
}